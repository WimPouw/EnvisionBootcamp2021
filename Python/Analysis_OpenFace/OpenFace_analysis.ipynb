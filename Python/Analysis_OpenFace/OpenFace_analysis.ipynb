{
 "cells": [
  {
   "cell_type": "markdown",
   "id": "887738c3",
   "metadata": {
    "tags": []
   },
   "source": [
    "<center><h1> Multimodal Face-Prosody Analysis Using OpenFace and Parselmouth </h1>\n",
    "\n",
    "\n",
    "<h3> James Trujillo ( james.trujillo@donders.ru.nl )<br>\n",
    "    Wim Pouw ( wim.pouw@donders.ru.nl )<br>\n",
    "    18-11-2021 </h3>\n",
    "    \n",
    "<img src=\"./images/envision_banner.png\"> </center>\n",
    "\n",
    "<h3> Info documents </h3>\n",
    "This coding module gives an introduction to using the output of OpenFace together with prosodic data. We'll discuss cleaning the data, extracting relevant features, merging kinematic data with annotation data, and using Parselmouth (a python interface for working with Praat) to extract prosodic features from the audio stream. Finally, we'll perform a simple analysis of kinematic-prosodic alignment.\n",
    "<br><br>\n",
    "\n",
    "* OpenFace: https://github.com/TadasBaltrusaitis/OpenFace\n",
    "* OpenFace citation: OpenFace 2.0: Facial Behavior Analysis Toolkit Tadas Baltrušaitis, Amir Zadeh, Yao Chong Lim, and Louis-Philippe Morency, IEEE International Conference on Automatic Face and Gesture Recognition, 2018\n",
    "\n",
    "* A detailed tutorial for using ExploFace: https://github.com/emrecdem/exploface/blob/master/TUTORIALS/tutorial1.ipynb \n",
    "\n",
    "* location code: \n",
    "https://github.com/WimPouw/EnvisionBootcamp2021/tree/main/Python/MediaBodyTracking\n",
    "\n",
    "* Packages to install: <i>praat-parselmouth, seaborn </i>\n",
    "\n",
    "* citation: \n",
    "Trujillo, J.P. & Pouw, W.T.J.L.(2021-11-18). <i>  Multimodal Face-Prosody Analysis Using OpenFace and Parselmouth </i> \\[day you visited the site]. Retrieved from: https://github.com/WimPouw/EnvisionBootcamp2021/tree/main/Python/MediaBodyTracking \n",
    "\n",
    "\n",
    "<h3> Introduction </h3>\n",
    "\n"
   ]
  },
  {
   "cell_type": "code",
   "execution_count": 1,
   "id": "569285bf-8d11-4458-9bd0-0a56b999578e",
   "metadata": {},
   "outputs": [
    {
     "name": "stderr",
     "output_type": "stream",
     "text": [
      "C:\\ProgramData\\Anaconda3\\lib\\site-packages\\IPython\\core\\display.py:717: UserWarning: Consider using IPython.display.IFrame instead\n",
      "  warnings.warn(\"Consider using IPython.display.IFrame instead\")\n"
     ]
    },
    {
     "data": {
      "text/html": [
       "<iframe width=\"935\" height=\"526\" src=\"https://www.youtube.com/embed/s-XV4GCSjtc?start=309\" title=\"YouTube video player\" frameborder=\"0\" allow=\"accelerometer; autoplay; clipboard-write; encrypted-media; gyroscope; picture-in-picture\" allowfullscreen></iframe>"
      ],
      "text/plain": [
       "<IPython.core.display.HTML object>"
      ]
     },
     "execution_count": 1,
     "metadata": {},
     "output_type": "execute_result"
    }
   ],
   "source": [
    "from IPython.display import HTML\n",
    "\n",
    "HTML('<iframe width=\"935\" height=\"526\" src=\"https://www.youtube.com/embed/s-XV4GCSjtc?start=309\" title=\"YouTube video player\" frameborder=\"0\" allow=\"accelerometer; autoplay; clipboard-write; encrypted-media; gyroscope; picture-in-picture\" allowfullscreen></iframe>')\n"
   ]
  },
  {
   "cell_type": "markdown",
   "id": "d8c0dafb",
   "metadata": {
    "tags": []
   },
   "source": [
    "<h2>Example Analysis Case: Eyebrows and Prosody </h2>\n",
    "As a simple example of how we can utilize OpenFace for multimodal analysis, let's look at the coupling between eyebrow movement and speech prosody. Kim, Cvejic & Davis (2014) found a correlation between these two measures, but used wired trackers attached to the face, which may be less ideal for studying natural interaction.<br>\n",
    "For this case example, we'll use a video from the Bielefeld Speech-and-Gesture Alignment (SaGA) corpus (Lücking et al., 2013 https://doi.org/10.1007/s12193-012-0106-8 ).\n",
    "<br>\n",
    "The tracking is already done, although you can download the original video file from our OSF page if you want to try running it yourself. Let's load in the data and apply some smoothing."
   ]
  },
  {
   "cell_type": "code",
   "execution_count": 122,
   "id": "ec46c2b3",
   "metadata": {},
   "outputs": [],
   "source": [
    "import exploface\n",
    "import pandas as pd\n",
    "from scipy import signal\n",
    "import matplotlib.pyplot as plt\n",
    "openface_file = \"./Timeseries_output/v07.csv\"\n",
    "\n",
    "openface_features = exploface.get_feature_time_series(openface_file)\n"
   ]
  },
  {
   "cell_type": "code",
   "execution_count": 17,
   "id": "6966044f",
   "metadata": {},
   "outputs": [
    {
     "data": {
      "image/png": "[encoded data removed]",
      "text/plain": [
       "<Figure size 432x288 with 2 Axes>"
      ]
     },
     "metadata": {
      "needs_background": "light"
     },
     "output_type": "display_data"
    }
   ],
   "source": [
    "\n",
    "# let's compare raw and smoothed position\n",
    "plt.subplot(2,1,1)\n",
    "plt.plot(openface_features.loc[200:300,\"timestamp\"],openface_features.loc[200:300,\"y_24\"])\n",
    "plt.xlabel(\"time (sec)\")\n",
    "plt.ylabel(\"left eyebrow position (px)\")\n",
    "plt.title(\"Raw data\")\n",
    "plt.subplot(2,1,2)\n",
    "plt.plot(openface_features.loc[200:300,\"timestamp\"],signal.savgol_filter(openface_features.loc[200:300,\"y_24\"],5,3))\n",
    "plt.xlabel(\"time (sec)\")\n",
    "plt.ylabel(\"left eyebrow position (px)\")\n",
    "plt.title(\"Smoothed data\")\n",
    "plt.tight_layout()\n",
    "plt.show()"
   ]
  },
  {
   "cell_type": "markdown",
   "id": "f15acfdd",
   "metadata": {},
   "source": [
    "As we see above, the smoothing helps to iron our some of the jitter that is inherent to video based tracking, without affecting the main shape of the signal. <br>\n",
    "Before we go on to any analysis, we need to get a time-series that is useful for us. In this case, we currently only have the position of the eyebrow landmarks in pixel space. This isn't always helpful, as movement of the head will also affect this position, and (at least for A/V coupling) we are mostly interested in kinematics, not position.<br>\n"
   ]
  },
  {
   "cell_type": "code",
   "execution_count": 50,
   "id": "ad36ea13",
   "metadata": {},
   "outputs": [],
   "source": [
    "import math\n",
    "eyebrow_L = openface_features[[\"timestamp\",\"x_24\",\"y_24\"]].rename({\"x_24\":'X',\"y_24\":\"Y\"},axis='columns')\n",
    "eyebrow_R = openface_features[[\"timestamp\",\"x_19\",\"y_19\"]].rename({\"x_19\":'X',\"y_19\":\"Y\"},axis='columns')\n",
    "nose = openface_features[[\"timestamp\",\"x_33\",\"y_33\"]].rename({\"x_33\":'X',\"y_33\":\"Y\"},axis='columns')\n",
    "\n",
    "def calculate_velocity(ts, nose,FPS):\n",
    "    '''\n",
    "    We want to calculate velocity, but not of the eyebrow out of context of the face -\n",
    "    rather we want to get the relative movement. To do so, we calculate it as a funcion of\n",
    "    where the eyebrow is in relation to a fixed point, such as the nose\n",
    "    '''\n",
    "    # first, get the relative position\n",
    "    # we'll use list comprehension to make a new timeseries consisting of x,y pairs \n",
    "    rel_ts = [ [row['X']-nose.loc[idx,'X'], row['Y']-nose.loc[idx,'Y']] for idx,row in ts.iterrows()]\n",
    "    \n",
    "    \n",
    "    IDX = 0\n",
    "    vel = []\n",
    "    for coords in rel_ts[1:]:\n",
    "        Prev_coords = rel_ts[IDX]\n",
    "        # first calculate displacement\n",
    "        DISPLACE = math.hypot(float(coords[0]) - float(Prev_coords[0]), float(coords[1]) - float(Prev_coords[1]))\n",
    "        # remove any change in head position\n",
    "        \n",
    "        # then calculate velocity\n",
    "        vel.append(DISPLACE * FPS)\n",
    "        IDX += 1\n",
    "    vel = list(vel)\n",
    "    # now smooth the velocity time-series\n",
    "    vel_sm = signal.savgol_filter(vel, 5,3)\n",
    "    \n",
    "    return vel_sm\n",
    "\n",
    "eyebrow_L_sm = calculate_velocity(eyebrow_L, nose, 25)\n",
    "eyebrow_R_sm = calculate_velocity(eyebrow_R, nose, 25)"
   ]
  },
  {
   "cell_type": "markdown",
   "id": "e6b5dd77",
   "metadata": {},
   "source": [
    "Now that we have some time series to work with, let's get some annotations and use these to calculate the kinematic-prosodic coupling. For our prosody calculations, we'll be using a package called Parselmouth. Parselmouth provides a Python interface for PRAAT and allows us to directly calculate (and manipulae) many features of a speech signal.<br>\n",
    "First, let's load in the annotations, get the speech signal, and extract the pitch values.\n"
   ]
  },
  {
   "cell_type": "code",
   "execution_count": 109,
   "id": "29ebccb1",
   "metadata": {},
   "outputs": [],
   "source": [
    "# pip install pympi-ling\n",
    "import pympi\n",
    "import parselmouth\n",
    "from parselmouth.praat import call\n",
    "\n",
    "annot_file = pd.read_csv(\"./annoations/ELAN_ppn7_SaGA_speech_sentence.csv\")\n",
    "\n",
    "timestamps = eyebrow_L[\"timestamp\"]\n",
    "\n",
    "annot_file.head()\n",
    "# first we load in the audio file\n",
    "sound = parselmouth.Sound(\"./audio/v07.mp3\")\n",
    "\n",
    "for annot_idx,row in annot_file.iterrows():\n",
    "    # now we get the audio fragment corresponding to this annotation\n",
    "    annot_start = row[\"Begin Time - msec\"]/1000\n",
    "    annot_end = row[\"End Time - msec\"]/1000\n",
    "    sound_frag = sound.extract_part(from_time=annot_start,to_time=annot_end)\n",
    "    \n",
    "    # we'll also get the motion tracking timestamps for this fragment\n",
    "    timestamps_current = timestamps[int(annot_start*25):int(annot_end*25)]\n",
    "    timestamps_current = timestamps_current.reset_index()\n",
    "    \n",
    "    # now extract pitch values\n",
    "    pitch = call(sound_frag, \"To Pitch\", 0.01, 75, 300)\n",
    "    pitch_times = pitch.xs()\n",
    "    pitch_time_s = list(pitch_times)\n",
    "    pitch_time_s = [val + (annot_start) for val in pitch_time_s]\n",
    "    pitch_values = pitch.selected_array['frequency']\n",
    "    pitch_values = list(pitch_values)\n",
    "    \n",
    "    # now we want to get the maximum value and its time point\n",
    "    max_pitch = max(pitch_values)\n",
    "    pitch_index = pitch_values.index(max_pitch)\n",
    "    \n",
    "    # we should also get the max eyebrow movement and its index\n",
    "    # first we need to take a subset of the data, which corresponds to our annotation\n",
    "    # Since we know the data start at 0, we can convert the annotation times (currently in seconds)\n",
    "    # into frame numbers\n",
    "    annot_start_index = int(annot_start*25)\n",
    "    annot_end_index = int(annot_end*25)\n",
    "    \n",
    "    eyebrow_L_this_annot = list(eyebrow_L_sm[annot_start_index:annot_end_index])\n",
    "    eyebrow_R_this_annot = list(eyebrow_R_sm[annot_start_index:annot_end_index])\n",
    "    # now we get the max value and index\n",
    "    max_brow_L = max(eyebrow_L_this_annot)\n",
    "    max_brow_R = max(eyebrow_R_this_annot)\n",
    "    max_brow_L_index = eyebrow_L_this_annot.index(max_brow_L)\n",
    "    max_brow_R_index = eyebrow_R_this_annot.index(max_brow_R)\n",
    "    \n",
    "    # now let's update our annotation dataframe to have all of these values\n",
    "    annot_file.loc[annot_idx,\"pitch_peak_val\"] = max_pitch\n",
    "    annot_file.loc[annot_idx,\"pitch_peak_time\"] = pitch_time_s[pitch_index]\n",
    "    annot_file.loc[annot_idx,\"brow_L_val\"] = max_brow_L\n",
    "    annot_file.loc[annot_idx,\"brow_R_val\"] = max_brow_R\n",
    "    annot_file.loc[annot_idx,\"brow_L_time\"] = timestamps_current.loc[max_brow_L_index,\"timestamp\"]\n",
    "    annot_file.loc[annot_idx,\"brow_R_time\"] = timestamps_current.loc[max_brow_R_index,\"timestamp\"]\n",
    "\n"
   ]
  },
  {
   "cell_type": "markdown",
   "id": "2875f9fc",
   "metadata": {},
   "source": [
    "To get a correspondence between the two signals, we need to calculate the offset between them. The code below calculates the time difference between the peak eyebrow movement and the peak pitch. The hypothesis then, is that the peaks of the respective signals should align with one another in an utterance. "
   ]
  },
  {
   "cell_type": "code",
   "execution_count": 110,
   "id": "b5117535",
   "metadata": {},
   "outputs": [],
   "source": [
    "annot_file[\"pitch_browL_diff\"] = annot_file[\"brow_L_time\"] - annot_file[\"pitch_peak_time\"]\n",
    "annot_file[\"pitch_browR_diff\"] = annot_file[\"brow_R_time\"] - annot_file[\"pitch_peak_time\"]"
   ]
  },
  {
   "cell_type": "markdown",
   "id": "3e3f1e4e",
   "metadata": {},
   "source": [
    "Now we can draw the distributions and see if there is any correspondence/alignment. Note that we could also save this dataframe as a new .csv file and continue analyses in R, but for now let's see what we can do in Python.<br>\n",
    "For plotting, we'll use the seaborn package. "
   ]
  },
  {
   "cell_type": "code",
   "execution_count": 119,
   "id": "6b20abb6",
   "metadata": {},
   "outputs": [
    {
     "data": {
      "image/png": "[encoded data removed]",
      "text/plain": [
       "<Figure size 432x288 with 2 Axes>"
      ]
     },
     "metadata": {
      "needs_background": "light"
     },
     "output_type": "display_data"
    },
    {
     "name": "stdout",
     "output_type": "stream",
     "text": [
      "Mean offset of left eyebrow: -0.2033018965161955 seconds\n",
      "Mean offset of right eyebrow: -0.21075644197074297 seconds\n"
     ]
    }
   ],
   "source": [
    "import seaborn as sns\n",
    "import numpy as np\n",
    "\n",
    "plt.subplot(2,1,1)\n",
    "sns.distplot(annot_file['pitch_browL_diff'], hist=True, kde=True, \n",
    "             bins=int(len(annot_file)/5), color = 'darkblue', \n",
    "             hist_kws={'edgecolor':'black'},\n",
    "             kde_kws={'linewidth': 4})\n",
    "plt.xlabel(\"pitch-eyebrow offset (s)\")\n",
    "plt.ylabel(\"density\")\n",
    "plt.title(\"Left Eyebrow (centre)\")\n",
    "plt.tight_layout()\n",
    "plt.subplot(2,1,2)\n",
    "sns.distplot(annot_file['pitch_browR_diff'], hist=True, kde=True, \n",
    "             bins=int(len(annot_file)/5), color = 'darkblue', \n",
    "             hist_kws={'edgecolor':'black'},\n",
    "             kde_kws={'linewidth': 4})\n",
    "plt.xlabel(\"pitch-eyebrow offset (s)\")\n",
    "plt.ylabel(\"density\")\n",
    "plt.title(\"Right Eyebrow (centre)\")\n",
    "plt.tight_layout()\n",
    "plt.show()\n",
    "print(\"Mean offset of left eyebrow: \" + str(np.mean(annot_file[\"pitch_browL_diff\"])) + \" seconds\")\n",
    "print(\"Mean offset of right eyebrow: \" + str(np.mean(annot_file[\"pitch_browR_diff\"])) + \" seconds\")\n"
   ]
  },
  {
   "cell_type": "markdown",
   "id": "4e258b14",
   "metadata": {},
   "source": [
    "We can see that for both eyebrows, the kinematic peak occurs approximately 200 ms before the pitch peak. "
   ]
  },
  {
   "cell_type": "markdown",
   "id": "b902e3e4",
   "metadata": {},
   "source": [
    "<b>Bonus: Extracting audio</b>\n",
    "Don't have a separate audio file?  You can easily extract the audio from video using moviepy's ffmpeg. Below see an example of how this would be done, assuming you have a directory called <i>video</i> containing the original video file."
   ]
  },
  {
   "cell_type": "code",
   "execution_count": 63,
   "id": "f14d231b",
   "metadata": {},
   "outputs": [
    {
     "name": "stdout",
     "output_type": "stream",
     "text": [
      "Moviepy - Running:\n",
      ">>> \"+ \" \".join(cmd)\n",
      "Moviepy - Command successful\n"
     ]
    }
   ],
   "source": [
    "from moviepy.video.io.ffmpeg_tools import ffmpeg_extract_subclip, ffmpeg_extract_audio\n",
    "\n",
    "ffmpeg_extract_audio(\"./video/V07_original.mp4\",\"./audio/v07.mp3\")"
   ]
  }
 ],
 "metadata": {
  "kernelspec": {
   "display_name": "Python 3",
   "language": "python",
   "name": "python3"
  },
  "language_info": {
   "codemirror_mode": {
    "name": "ipython",
    "version": 3
   },
   "file_extension": ".py",
   "mimetype": "text/x-python",
   "name": "python",
   "nbconvert_exporter": "python",
   "pygments_lexer": "ipython3",
   "version": "3.7.6"
  }
 },
 "nbformat": 4,
 "nbformat_minor": 5
}
